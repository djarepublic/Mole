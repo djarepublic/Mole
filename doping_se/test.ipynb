{
 "cells": [
  {
   "cell_type": "code",
   "execution_count": 11,
   "metadata": {},
   "outputs": [],
   "source": [
    "from siman.calc_manage import smart_structure_read\n",
    "from doping import defects, calc_conc\n",
    "from reaction import find_decomp_id, calc_react\n",
    "from siman.header import db"
   ]
  },
  {
   "cell_type": "markdown",
   "metadata": {},
   "source": [
    "Read structure"
   ]
  },
  {
   "cell_type": "code",
   "execution_count": 2,
   "metadata": {},
   "outputs": [],
   "source": [
    "st = smart_structure_read('./Li3ScN2_mp-542435.cif')"
   ]
  },
  {
   "cell_type": "markdown",
   "metadata": {},
   "source": [
    "Initialize class"
   ]
  },
  {
   "cell_type": "code",
   "execution_count": 4,
   "metadata": {},
   "outputs": [
    {
     "name": "stderr",
     "output_type": "stream",
     "text": [
      "/home/dany/.local/lib/python3.10/site-packages/spglib/spglib.py:115: DeprecationWarning: dict interface (SpglibDataset['equivalent_atoms']) is deprecated.Use attribute interface ({self.__class__.__name__}.{key}) instead\n",
      "  warnings.warn(\n",
      "/home/dany/.local/lib/python3.10/site-packages/pymatgen/analysis/local_env.py:4158: UserWarning: No oxidation states specified on sites! For better results, set the site oxidation states in the structure.\n",
      "  warnings.warn(\n",
      "/home/dany/.local/lib/python3.10/site-packages/pymatgen/analysis/local_env.py:3951: UserWarning: CrystalNN: cannot locate an appropriate radius, covalent or atomic radii will be used, this can lead to non-optimal results.\n",
      "  warnings.warn(\n"
     ]
    },
    {
     "name": "stdout",
     "output_type": "stream",
     "text": [
      "-- I have found  1 non-equivalent positions for Li : dict_keys([0]) \n",
      "-- Atom numbers (from zero!):  {0: [0, 1, 2, 3, 4, 5, 6, 7, 8, 9, 10, 11, 12, 13, 14, 15, 16, 17, 18, 19, 20, 21, 22, 23]} \n",
      "\n",
      "-- Neighbors around atom 0 Li : \n",
      "\n",
      "+------+-------+------+-----------+\n",
      "|   nn |   No. | El   |   Dist, A |\n",
      "|------+-------+------+-----------|\n",
      "|    1 |    42 | N    |      2.05 |\n",
      "|    2 |    40 | N    |      2.13 |\n",
      "|    3 |    34 | N    |      2.21 |\n",
      "|    4 |    17 | Li   |      2.32 |\n",
      "+------+-------+------+-----------+ \n",
      "\n",
      "-- I have found  1 non-equivalent positions for Sc : dict_keys([24]) \n",
      "-- Atom numbers (from zero!):  {24: [24, 25, 26, 27, 28, 29, 30, 31]} \n",
      "\n",
      "-- Neighbors around atom 24 Sc : \n",
      "\n",
      "+------+-------+------+-----------+\n",
      "|   nn |   No. | El   |   Dist, A |\n",
      "|------+-------+------+-----------|\n",
      "|    1 |    32 | N    |      2.11 |\n",
      "|    2 |    36 | N    |      2.11 |\n",
      "|    3 |    40 | N    |      2.11 |\n",
      "|    4 |    39 | N    |      2.11 |\n",
      "+------+-------+------+-----------+ \n",
      "\n",
      "-- I have found  2 non-equivalent positions for N : dict_keys([32, 36]) \n",
      "-- Atom numbers (from zero!):  {32: [32, 33, 34, 35], 36: [36, 37, 38, 39, 40, 41, 42, 43, 44, 45, 46, 47]} \n",
      "\n",
      "-- Neighbors around atom 32 N : \n",
      "\n",
      "+------+-------+------+-----------+\n",
      "|   nn |   No. | El   |   Dist, A |\n",
      "|------+-------+------+-----------|\n",
      "|    1 |    28 | Sc   |      2.11 |\n",
      "|    2 |    24 | Sc   |      2.11 |\n",
      "|    3 |    16 | Li   |      2.21 |\n",
      "|    4 |     9 | Li   |      2.21 |\n",
      "|    5 |     1 | Li   |      2.21 |\n",
      "|    6 |    13 | Li   |      2.21 |\n",
      "|    7 |    21 | Li   |      2.21 |\n",
      "|    8 |     4 | Li   |      2.21 |\n",
      "+------+-------+------+-----------+ \n",
      "\n",
      "-- Neighbors around atom 36 N : \n",
      "\n",
      "+------+-------+------+-----------+\n",
      "|   nn |   No. | El   |   Dist, A |\n",
      "|------+-------+------+-----------|\n",
      "|    1 |    12 | Li   |      2.05 |\n",
      "|    2 |    23 | Li   |      2.05 |\n",
      "|    3 |    24 | Sc   |      2.11 |\n",
      "|    4 |    27 | Sc   |      2.11 |\n",
      "|    5 |     8 | Li   |      2.13 |\n",
      "|    6 |     5 | Li   |      2.13 |\n",
      "|    7 |     4 | Li   |      2.40 |\n",
      "|    8 |     7 | Li   |      2.40 |\n",
      "+------+-------+------+-----------+ \n",
      "\n"
     ]
    }
   ],
   "source": [
    "std = defects(st, alk='Li')"
   ]
  },
  {
   "cell_type": "markdown",
   "metadata": {},
   "source": [
    "Atributes "
   ]
  },
  {
   "cell_type": "code",
   "execution_count": 5,
   "metadata": {},
   "outputs": [
    {
     "data": {
      "text/plain": [
       "{'Li': {'oxi_state': 1.0,\n",
       "  'non_sym': [0],\n",
       "  'coord_number': [4],\n",
       "  'ionic_radius': [0.59],\n",
       "  'av_dist': [2.178]},\n",
       " 'Sc': {'oxi_state': 3.0,\n",
       "  'non_sym': [24],\n",
       "  'coord_number': [4],\n",
       "  'ionic_radius': [0.745],\n",
       "  'av_dist': [2.113]}}"
      ]
     },
     "execution_count": 5,
     "metadata": {},
     "output_type": "execute_result"
    }
   ],
   "source": [
    "std.ion_types"
   ]
  },
  {
   "cell_type": "code",
   "execution_count": 6,
   "metadata": {},
   "outputs": [
    {
     "data": {
      "text/plain": [
       "{'Li': 1.0, 'Sc': 3.0, 'N': -3.0}"
      ]
     },
     "execution_count": 6,
     "metadata": {},
     "output_type": "execute_result"
    }
   ],
   "source": [
    "std.dict_oxi"
   ]
  },
  {
   "cell_type": "markdown",
   "metadata": {},
   "source": [
    "Search posible dopant"
   ]
  },
  {
   "cell_type": "code",
   "execution_count": 9,
   "metadata": {},
   "outputs": [
    {
     "data": {
      "text/plain": [
       "[{'dopant': 'Mg',\n",
       "  'matrix_el': 'Li',\n",
       "  'matrix_oxi': 1.0,\n",
       "  'dop_oxi': 2.0,\n",
       "  'matrix_ir': 0.59,\n",
       "  'dop_ir': 0.57,\n",
       "  'Delta_R_DM': -0.03,\n",
       "  'Delta_ELN_DM': 0.33,\n",
       "  'dop_coord': 4,\n",
       "  'dop_position': 0,\n",
       "  'av_dist': 2.178},\n",
       " {'dopant': 'Zr',\n",
       "  'matrix_el': 'Sc',\n",
       "  'matrix_oxi': 3.0,\n",
       "  'dop_oxi': 4.0,\n",
       "  'matrix_ir': 0.745,\n",
       "  'dop_ir': 0.59,\n",
       "  'Delta_R_DM': -0.21,\n",
       "  'Delta_ELN_DM': 0.03,\n",
       "  'dop_coord': 4,\n",
       "  'dop_position': 24,\n",
       "  'av_dist': 2.113}]"
      ]
     },
     "execution_count": 9,
     "metadata": {},
     "output_type": "execute_result"
    }
   ],
   "source": [
    "dop = std.search_dop(0.22, 0.4, dif=1, reduce=1)\n",
    "dop"
   ]
  },
  {
   "cell_type": "markdown",
   "metadata": {},
   "source": [
    "Make structure"
   ]
  },
  {
   "cell_type": "code",
   "execution_count": 10,
   "metadata": {},
   "outputs": [
    {
     "name": "stdout",
     "output_type": "stream",
     "text": [
      "-- Calculating mul_matrix for ortho: [10, 10, 10] \n",
      "\n",
      "mul_matrix_float:\n",
      " [[ 0.00000000e+00  1.00170768e+00  1.00170768e+00]\n",
      " [ 1.00170768e+00 -4.44847572e-16  1.00170768e+00]\n",
      " [ 1.00170768e+00  1.00170768e+00  0.00000000e+00]] \n",
      "mul_matrix:\n",
      " [[0 1 1]\n",
      " [1 0 1]\n",
      " [1 1 0]] \n",
      "Old vectors (rprimd):\n",
      " [[-5.  5.  5.]\n",
      " [ 5. -5.  5.]\n",
      " [ 5.  5. -5.]] \n",
      "New vectors (rprimd) of supercell:\n",
      " [[9.98 0.   0.  ]\n",
      " [0.   9.98 0.  ]\n",
      " [0.   0.   9.98]] \n",
      "The supercell should contain 95.99999999999999 atoms ... \n",
      "  -- OK \n",
      "\n",
      "-- I have found  47 non-equivalent positions for Li : dict_keys([0, 1, 2, 3, 4, 5, 6, 7, 8, 9, 10, 11, 12, 13, 29, 30, 31, 36, 37, 38, 45, 46, 47, 51, 52, 53, 58, 59, 60, 64, 65, 66, 70, 71, 72, 73, 74, 75, 76, 77, 78, 79, 80, 81, 82, 83, 84]) \n",
      "-- Atom numbers (from zero!):  {0: [0], 1: [1], 2: [2], 3: [3], 4: [4], 5: [5], 6: [6], 7: [7], 8: [8], 9: [9], 10: [10], 11: [11], 12: [12], 13: [13], 29: [29], 30: [30], 31: [31], 36: [36], 37: [37], 38: [38], 45: [45], 46: [46], 47: [47], 51: [51], 52: [52], 53: [53], 58: [58], 59: [59], 60: [60], 64: [64], 65: [65], 66: [66], 70: [70], 71: [71], 72: [72], 73: [73], 74: [74], 75: [75], 76: [76], 77: [77], 78: [78], 79: [79], 80: [80], 81: [81], 82: [82], 83: [83], 84: [84]} \n",
      "\n"
     ]
    },
    {
     "name": "stderr",
     "output_type": "stream",
     "text": [
      "/home/dany/.local/lib/python3.10/site-packages/spglib/spglib.py:115: DeprecationWarning: dict interface (SpglibDataset['equivalent_atoms']) is deprecated.Use attribute interface ({self.__class__.__name__}.{key}) instead\n",
      "  warnings.warn(\n"
     ]
    }
   ],
   "source": [
    "st_mg = std.make_st2('Mg', dop[0], )"
   ]
  },
  {
   "cell_type": "code",
   "execution_count": 11,
   "metadata": {},
   "outputs": [
    {
     "name": "stdout",
     "output_type": "stream",
     "text": [
      "Full Formula (Li46 Mg1 Sc16 N32)\n",
      "Reduced Formula: Li46MgSc16N32\n",
      "abc   :   9.982952   9.982952   9.982952\n",
      "angles:  90.000000  90.000000  90.000000\n",
      "pbc   :       True       True       True\n",
      "Sites (95)\n",
      "  #  SP            a          b          c\n",
      "---  ----  ---------  ---------  ---------\n",
      "  0  Li     0.134679   0.86045    0.097295\n",
      "  1  Li     0.86045    0.097295   0.134679\n",
      "  2  Li     0.365321   0.13955    0.597295\n",
      "  3  Li     0.13955    0.402705   0.134679\n",
      "  4  Li     0.134679   0.13955    0.402705\n",
      "  5  Li     0.13955    0.597295   0.365321\n",
      "  6  Li     0.097295   0.134679   0.86045\n",
      "  7  Li     0.597295   0.365321   0.13955\n",
      "  8  Li     0.097295   0.365321   0.36045\n",
      "  9  Li     0.13955    0.097295   0.634679\n",
      " 10  Li     0.365321   0.36045    0.097295\n",
      " 11  Li     0.634679   0.13955    0.097295\n",
      " 12  Li     0.097295   0.634679   0.13955\n",
      " 13  Sc     0.127937   0.127937   0.127937\n",
      " 14  Sc     0.127937   0.372063   0.627937\n",
      " 15  Sc     0.372063   0.627937   0.127937\n",
      " 16  Sc     0.372063   0.372063   0.372063\n",
      " 17  Sc     0.627937   0.127937   0.372063\n",
      " 18  N      0.25       0.25       0.25\n",
      " 19  N      0          0.25       0.01156\n",
      " 20  N      0.25       0.01156    0\n",
      " 21  N      0.01156   -0          0.25\n",
      " 22  N      0.51156    0          0.25\n",
      " 23  N      0.25       0.51156   -0\n",
      " 24  N      0.5        0.25       0.48844\n",
      " 25  N      0.25       0.48844    0.5\n",
      " 26  N      0          0.25       0.51156\n",
      " 27  N      0.48844    0.5        0.25\n",
      " 28  Li     0.865321   0.63955    0.097295\n",
      " 29  Li     0.597295   0.634679   0.36045\n",
      " 30  Li     0.63955    0.597295   0.134679\n",
      " 31  Sc     0.627937   0.872063   0.127937\n",
      " 32  N      0.75       0.48844   -0\n",
      " 33  N      0.75       0.98844   -0\n",
      " 34  N      0.5        0.75       0.01156\n",
      " 35  Li     0.634679   0.36045    0.597295\n",
      " 36  Li     0.63955    0.097295   0.865321\n",
      " 37  Li     0.597295   0.134679   0.63955\n",
      " 38  Sc     0.372063   0.127937   0.872063\n",
      " 39  Sc     0.872063   0.127937   0.627937\n",
      " 40  N      0.75       0.25       0.25\n",
      " 41  N      0.48844    0          0.75\n",
      " 42  N      0.75       0.01156    0.5\n",
      " 43  N      0.98844    0          0.75\n",
      " 44  Li     0.865321   0.36045    0.402705\n",
      " 45  Li     0.63955    0.402705   0.365321\n",
      " 46  Li     0.902705   0.134679   0.36045\n",
      " 47  Sc     0.872063   0.627937   0.372063\n",
      " 48  Sc     0.872063   0.372063   0.127937\n",
      " 49  N      0.98844    0.5        0.25\n",
      " 50  Li     0.36045    0.597295   0.634679\n",
      " 51  Li     0.097295   0.865321   0.63955\n",
      " 52  Li     0.134679   0.63955    0.597295\n",
      " 53  Sc     0.127937   0.627937   0.872063\n",
      " 54  N     -0          0.75       0.48844\n",
      " 55  N      0.01156    0.5        0.75\n",
      " 56  N     -0          0.75       0.98844\n",
      " 57  Li     0.402705   0.865321   0.36045\n",
      " 58  Li     0.365321   0.63955    0.402705\n",
      " 59  Li     0.36045    0.902705   0.134679\n",
      " 60  Sc     0.127937   0.872063   0.372063\n",
      " 61  N      0.25       0.75       0.25\n",
      " 62  N      0.25       0.98844    0.5\n",
      " 63  Li     0.36045    0.402705   0.865321\n",
      " 64  Li     0.134679   0.36045    0.902705\n",
      " 65  Li     0.402705   0.365321   0.63955\n",
      " 66  N      0.25       0.25       0.75\n",
      " 67  N      0.25       0.75       0.75\n",
      " 68  N      0.5        0.25       0.98844\n",
      " 69  Li     0.902705   0.634679   0.63955\n",
      " 70  Li     0.86045    0.902705   0.365321\n",
      " 71  Li     0.63955    0.902705   0.634679\n",
      " 72  Li     0.634679   0.63955    0.902705\n",
      " 73  Li     0.365321   0.86045    0.902705\n",
      " 74  Li     0.902705   0.365321   0.86045\n",
      " 75  Li     0.597295   0.865321   0.86045\n",
      " 76  Li     0.865321   0.13955    0.902705\n",
      " 77  Li     0.13955    0.902705   0.865321\n",
      " 78  Li     0.634679   0.86045    0.402705\n",
      " 79  Li     0.86045    0.597295   0.865321\n",
      " 80  Li     0.865321   0.86045    0.597295\n",
      " 81  Li     0.86045    0.402705   0.634679\n",
      " 82  Li     0.902705   0.865321   0.13955\n",
      " 83  Li     0.402705   0.634679   0.86045\n",
      " 84  Sc     0.627937   0.372063   0.872063\n",
      " 85  Sc     0.627937   0.627937   0.627937\n",
      " 86  Sc     0.372063   0.872063   0.627937\n",
      " 87  Sc     0.872063   0.872063   0.872063\n",
      " 88  N      0.75       0.75       0.25\n",
      " 89  N      0.75       0.25       0.75\n",
      " 90  N      0.75       0.75       0.75\n",
      " 91  N      0.5        0.75       0.51156\n",
      " 92  N      0.75       0.51156    0.5\n",
      " 93  N      0.51156    0.5        0.75\n",
      " 94  Mg     0.402705   0.134679   0.13955\n"
     ]
    }
   ],
   "source": [
    "st_mg[0].printme()"
   ]
  },
  {
   "cell_type": "markdown",
   "metadata": {},
   "source": [
    "Find decomposition id"
   ]
  },
  {
   "cell_type": "code",
   "execution_count": 4,
   "metadata": {},
   "outputs": [
    {
     "name": "stderr",
     "output_type": "stream",
     "text": [
      "Retrieving ThermoDoc documents: 100%|██████████| 15/15 [00:00<00:00, 172842.20it/s]\n"
     ]
    },
    {
     "data": {
      "text/plain": [
       "['mp-542435', 'mp-3216']"
      ]
     },
     "execution_count": 4,
     "metadata": {},
     "output_type": "execute_result"
    }
   ],
   "source": [
    "st_zr = db['mp-542435_Li3ScN2_Zr_Sc_min_e_c4.1mm.1'].end\n",
    "e_zr = db['mp-542435_Li3ScN2_Zr_Sc_min_e_c4.1mm.1'].e0\n",
    "id_list = find_decomp_id(st_zr)\n",
    "id_list"
   ]
  },
  {
   "cell_type": "markdown",
   "metadata": {},
   "source": [
    "Reaction and energy of decomposition"
   ]
  },
  {
   "cell_type": "code",
   "execution_count": 6,
   "metadata": {},
   "outputs": [],
   "source": [
    "react = calc_react((st_zr, e_zr), [(db['mp-542435.1mm.1'].end, db['mp-542435.1mm.1'].e0), (db['mp-3216.1mm.1'].end, db['mp-3216.1mm.1'].e0)])"
   ]
  },
  {
   "cell_type": "code",
   "execution_count": 7,
   "metadata": {},
   "outputs": [
    {
     "data": {
      "text/plain": [
       "'Li47 Zr1 Sc15 N32 -> 1.875 Li24 Sc8 N16 + 0.9999999999999991 Li2 Zr1 N2'"
      ]
     },
     "execution_count": 7,
     "metadata": {},
     "output_type": "execute_result"
    }
   ],
   "source": [
    "react[0]"
   ]
  },
  {
   "cell_type": "code",
   "execution_count": 10,
   "metadata": {},
   "outputs": [
    {
     "data": {
      "text/plain": [
       "0.5541143187499458"
      ]
     },
     "execution_count": 10,
     "metadata": {},
     "output_type": "execute_result"
    }
   ],
   "source": [
    "react[1]"
   ]
  },
  {
   "cell_type": "markdown",
   "metadata": {},
   "source": [
    "Concentration"
   ]
  },
  {
   "cell_type": "code",
   "execution_count": 12,
   "metadata": {},
   "outputs": [
    {
     "data": {
      "text/plain": [
       "0.06909390676044398"
      ]
     },
     "execution_count": 12,
     "metadata": {},
     "output_type": "execute_result"
    }
   ],
   "source": [
    "C = calc_conc(st_zr, react[1], 'Sc')\n",
    "C"
   ]
  }
 ],
 "metadata": {
  "kernelspec": {
   "display_name": "Python 3",
   "language": "python",
   "name": "python3"
  },
  "language_info": {
   "codemirror_mode": {
    "name": "ipython",
    "version": 3
   },
   "file_extension": ".py",
   "mimetype": "text/x-python",
   "name": "python",
   "nbconvert_exporter": "python",
   "pygments_lexer": "ipython3",
   "version": "3.10.12"
  }
 },
 "nbformat": 4,
 "nbformat_minor": 2
}
